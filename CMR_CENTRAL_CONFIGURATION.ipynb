{
 "cells": [
  {
   "cell_type": "code",
   "execution_count": null,
   "id": "98b6071b-c6c1-426c-900f-691debb02744",
   "metadata": {},
   "outputs": [],
   "source": [
    "import json\n",
    "import requests\n",
    "from requests.auth import HTTPBasicAuth"
   ]
  },
  {
   "cell_type": "markdown",
   "id": "70346636-0522-477a-adb8-c455b6871809",
   "metadata": {},
   "source": [
    "# PARAMETERS"
   ]
  },
  {
   "cell_type": "markdown",
   "id": "3e61adce-6a41-4cf7-9bd8-72a966bef869",
   "metadata": {},
   "source": [
    "These parameters won't change during a Central Model Registry configuration."
   ]
  },
  {
   "cell_type": "code",
   "execution_count": null,
   "id": "3d1fdb0d-a0bd-497c-b9c9-08707d1baf26",
   "metadata": {},
   "outputs": [],
   "source": [
    "sp_tenant_id = \"XXXXXXXX-XXXX-XXXX-XXXX-XXXXXXXX\" #Tenant ID of the Service Principal"
   ]
  },
  {
   "cell_type": "code",
   "execution_count": null,
   "id": "ca34a702-5efe-4dd3-af8a-ef05e8248248",
   "metadata": {},
   "outputs": [],
   "source": [
    "db_admin_username = \"daniel.perez@databricks.com\" #Admin for Central Model Registry\n",
    "db_admin_token = \"dapiXXXXXXXXXXXXXXXXXXXXXXXXXX\" #Central Model Registry\n",
    "db_url = \"adb-XXXXXXXXXXXXX.1.azuredatabricks.net\" #Central Model Registry"
   ]
  },
  {
   "cell_type": "markdown",
   "id": "9d886e3e-a787-40fa-b194-ad8f63579043",
   "metadata": {},
   "source": [
    "These parameters will change for every Satellite Workspace during a Central Model Registry configuration."
   ]
  },
  {
   "cell_type": "code",
   "execution_count": null,
   "id": "ad68111d-4481-44ab-bdf4-1aefd375229b",
   "metadata": {},
   "outputs": [],
   "source": [
    "sp_display_name = \"dp-bci-test\" #Name of the Service Principal\n",
    "sp_application_id = \"XXXXXXXX-XXXXX-XXXXX-XXXXX-XXXXXXXXX\" #Application ID for the Service Principal\n",
    "sp_client_secret = \"XXXXXXXXXXXXXXXXXXXXXXXXXX\" #Client secret for the service principal"
   ]
  },
  {
   "cell_type": "code",
   "execution_count": null,
   "id": "5f9089fd-7c48-463b-8d9e-41cdca6cdb37",
   "metadata": {},
   "outputs": [],
   "source": [
    "pat_token_comment = f\"Token for ML {sp_display_name}\" # Comment for Databricks\n",
    "pat_token_lifetime_seconds = -1 # Perpetual token: -1"
   ]
  },
  {
   "cell_type": "markdown",
   "id": "f6a49b04-0e74-403f-af21-fc339fb3d0ba",
   "metadata": {},
   "source": [
    "# MAIN"
   ]
  },
  {
   "cell_type": "markdown",
   "id": "5854fa1a-c73e-4b1a-b32f-541124aec5ae",
   "metadata": {},
   "source": [
    "## ADD SERVICE PRINCIPAL TO CENTRAL WORKSPACE"
   ]
  },
  {
   "cell_type": "code",
   "execution_count": null,
   "id": "708a5b55-9cad-4091-bd6b-bc9eedd23fa5",
   "metadata": {},
   "outputs": [],
   "source": [
    "add_sp_json = {\n",
    "  \"schemas\": [ \"urn:ietf:params:scim:schemas:core:2.0:ServicePrincipal\" ],\n",
    "  \"applicationId\": sp_application_id,\n",
    "  \"displayName\": sp_display_name\n",
    "}\n",
    "\n",
    "response = requests.post(f\"https://{db_url}/api/2.0/preview/scim/v2/ServicePrincipals\",\n",
    "                        headers = {'Content-type': 'application/scim+json'},\n",
    "                        auth=HTTPBasicAuth(db_admin_username, db_admin_token),\n",
    "                        data=json.dumps(add_sp_json))"
   ]
  },
  {
   "cell_type": "code",
   "execution_count": null,
   "id": "88e99418-c62c-4f9f-a3ff-df2c42f30575",
   "metadata": {},
   "outputs": [],
   "source": [
    "response.content"
   ]
  },
  {
   "cell_type": "markdown",
   "id": "362b99b8-5520-44c8-abec-b5c36d0a9f78",
   "metadata": {},
   "source": [
    "## GRANT SERVICE PRINCIPAL PAT TOKEN PERMISSIONS ON CENTRALIZED WORKSPACE"
   ]
  },
  {
   "cell_type": "code",
   "execution_count": null,
   "id": "02969ddc-3973-46ec-9f70-ba6ba3aa943f",
   "metadata": {},
   "outputs": [],
   "source": [
    "url = f\"https://{db_url}/api/2.0/permissions/authorization/tokens\"\n",
    "\n",
    "payload = {\n",
    "  \"access_control_list\": [\n",
    "    {\n",
    "      \"user_name\": sp_application_id,\n",
    "      \"permission_level\": \"CAN_USE\"\n",
    "    }\n",
    "  ]\n",
    "}\n",
    "\n",
    "response = requests.patch(url,\n",
    "                          headers = {'Content-type': 'application/json'},\n",
    "                          auth=HTTPBasicAuth(db_admin_username, db_admin_token),\n",
    "                          data=json.dumps(payload))"
   ]
  },
  {
   "cell_type": "code",
   "execution_count": null,
   "id": "dbe6c786-2a4c-4c06-9042-e4dac681ff08",
   "metadata": {},
   "outputs": [],
   "source": [
    "response.content"
   ]
  },
  {
   "cell_type": "markdown",
   "id": "d5ab5afe-4ee7-44cb-8e9b-51e7f663d690",
   "metadata": {},
   "source": [
    "## CREATE PAT TOKEN"
   ]
  },
  {
   "cell_type": "markdown",
   "id": "0fce07e8-d565-4f08-8373-7a440fabbf26",
   "metadata": {},
   "source": [
    "### Get Bearer token for API"
   ]
  },
  {
   "cell_type": "code",
   "execution_count": null,
   "id": "a7dc3f51-0335-4b74-9d05-72083a1c58ae",
   "metadata": {},
   "outputs": [],
   "source": [
    "url = f\"https://login.microsoftonline.com/{sp_tenant_id}/oauth2/token\"\n",
    "payload=f'grant_type=client_credentials&client_id={sp_application_id}&client_secret={sp_client_secret}&resource=2ff814a6-3304-4ab8-85cb-cd0e6f879c1d'\n",
    "headers = {\n",
    "  'Content-Type': 'application/x-www-form-urlencoded',\n",
    "}\n",
    "\n",
    "response = requests.request(\"POST\", url, headers=headers, data=payload)\n",
    "\n",
    "access_token = response.json().get(\"access_token\")"
   ]
  },
  {
   "cell_type": "code",
   "execution_count": null,
   "id": "37665cc0-c4f5-442f-8410-b26b36363326",
   "metadata": {},
   "outputs": [],
   "source": [
    "response.content"
   ]
  },
  {
   "cell_type": "markdown",
   "id": "7827ef8e-2741-41ef-b9f0-1b1cc7c3a119",
   "metadata": {},
   "source": [
    "### Get PAT Token"
   ]
  },
  {
   "cell_type": "code",
   "execution_count": null,
   "id": "7b93f4d4-5855-4ac6-b00d-30f76d12fc72",
   "metadata": {},
   "outputs": [],
   "source": [
    "token_json = {\n",
    "    \"comment\": pat_token_comment,\n",
    "    \"lifetime_seconds\": pat_token_lifetime_seconds\n",
    "}\n",
    "\n",
    "response = requests.post(\n",
    "    f\"https://{db_url}/api/2.0/token/create\",\n",
    "    headers={\"Authorization\": f\"Bearer {access_token}\"},\n",
    "    data=json.dumps(token_json)\n",
    ")"
   ]
  },
  {
   "cell_type": "code",
   "execution_count": null,
   "id": "1f85b48e-b864-4a00-8a3b-ccdec2a0f4a1",
   "metadata": {},
   "outputs": [],
   "source": [
    "response.content"
   ]
  },
  {
   "cell_type": "code",
   "execution_count": null,
   "id": "6502478c-3812-4b44-b371-953c46c37533",
   "metadata": {},
   "outputs": [],
   "source": [
    "sp_pat_token = response.json().get(\"token_value\")"
   ]
  },
  {
   "cell_type": "markdown",
   "id": "40f662a4-8464-4302-b2f1-f79a2077c401",
   "metadata": {},
   "source": [
    "# vvvNOTE DOWN THIS VALUEvvv"
   ]
  },
  {
   "cell_type": "code",
   "execution_count": null,
   "id": "e9a6db4f-df0a-4e21-8526-c2b6be88aa16",
   "metadata": {},
   "outputs": [],
   "source": [
    "sp_display_name, sp_pat_token"
   ]
  },
  {
   "cell_type": "markdown",
   "id": "afc36694-1cb6-4e1b-8d8c-87f8a50ac2a1",
   "metadata": {},
   "source": [
    "# ^^^NOTE DOWN THIS VALUE^^^"
   ]
  }
 ],
 "metadata": {
  "kernelspec": {
   "display_name": "Python 3",
   "language": "python",
   "name": "python3"
  },
  "language_info": {
   "codemirror_mode": {
    "name": "ipython",
    "version": 3
   },
   "file_extension": ".py",
   "mimetype": "text/x-python",
   "name": "python",
   "nbconvert_exporter": "python",
   "pygments_lexer": "ipython3",
   "version": "3.9.1"
  }
 },
 "nbformat": 4,
 "nbformat_minor": 5
}
