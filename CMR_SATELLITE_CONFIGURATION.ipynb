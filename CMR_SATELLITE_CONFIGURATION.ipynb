{
 "cells": [
  {
   "cell_type": "code",
   "execution_count": 9,
   "id": "9b0c0c52-cb69-4c05-be24-c675526568a9",
   "metadata": {},
   "outputs": [],
   "source": [
    "import json"
   ]
  },
  {
   "cell_type": "markdown",
   "id": "d279ab88-356b-451a-80e3-a426be35f9d8",
   "metadata": {},
   "source": [
    "# PARAMETERS"
   ]
  },
  {
   "cell_type": "code",
   "execution_count": null,
   "id": "8a16a7c3-9a6f-438f-aff6-7454edf6602f",
   "metadata": {},
   "outputs": [],
   "source": [
    "PROFILE = 'DPP'\n",
    "GROUP = None\n",
    "SCOPE_NAME = 'TEST_SCOPE'\n",
    "HOST_CLIENT = 'https://adb-2173364778179441.1.azuredatabricks.net/'\n",
    "PAT = 'EL_TOKEN'"
   ]
  },
  {
   "cell_type": "code",
   "execution_count": 13,
   "id": "c09e8ba4-90e9-48ab-a601-21e247937b49",
   "metadata": {},
   "outputs": [],
   "source": [
    "HOST_CENTRAL = 'https://adb-2173364778179441.1.azuredatabricks.net/'\n",
    "WORKSPACE_ID = '2173364778179441'\n",
    "PREFIX = 'ML'"
   ]
  },
  {
   "cell_type": "markdown",
   "id": "75506cb6-d539-47cd-878c-85a6f491d9f3",
   "metadata": {},
   "source": [
    "# MAIN"
   ]
  },
  {
   "cell_type": "markdown",
   "id": "e9a97503-bad3-4745-b557-d48f561dc164",
   "metadata": {},
   "source": [
    "## Scope"
   ]
  },
  {
   "cell_type": "code",
   "execution_count": 5,
   "id": "626026cc-e8c2-40f6-a646-aa665145894f",
   "metadata": {},
   "outputs": [],
   "source": [
    "if GROUP is None:\n",
    "    scope = !databricks secrets create-scope --scope $SCOPE_NAME --profile $PROFILE\n",
    "else:\n",
    "    scope = !databricks secrets create-scope --scope $SCOPE_NAME --initial-manage-principal $GROUP --profile $PROFILE"
   ]
  },
  {
   "cell_type": "code",
   "execution_count": 6,
   "id": "30f5e031-c828-4494-b38f-b3bb0e0333d1",
   "metadata": {},
   "outputs": [
    {
     "name": "stdout",
     "output_type": "stream",
     "text": [
      "Scope             Backend         KeyVault URL\n",
      "----------------  --------------  ---------------------------------\n",
      "adls-scope        AZURE_KEYVAULT  https://danpg-kv.vault.azure.net/\n",
      "central-ml-scope  DATABRICKS      N/A\n",
      "dp-scope          DATABRICKS      N/A\n",
      "TEST_SCOPE        DATABRICKS      N/A\n"
     ]
    }
   ],
   "source": [
    "!databricks secrets list-scopes --profile $PROFILE"
   ]
  },
  {
   "cell_type": "markdown",
   "id": "bf8864b5-ec95-414b-9751-3fbe493cffd6",
   "metadata": {},
   "source": [
    "## SECRETS"
   ]
  },
  {
   "cell_type": "markdown",
   "id": "dca5d7b6-8dae-4bfa-b810-97a81029ac2d",
   "metadata": {},
   "source": [
    "TOKEN"
   ]
  },
  {
   "cell_type": "code",
   "execution_count": 25,
   "id": "18905c36-1783-48ea-a71e-01d7d6498f14",
   "metadata": {},
   "outputs": [],
   "source": [
    "TOKEN_KEY = f\"{PREFIX}-token\""
   ]
  },
  {
   "cell_type": "code",
   "execution_count": 26,
   "id": "61aabe8f-7948-4f26-b51b-4a379604aad1",
   "metadata": {},
   "outputs": [],
   "source": [
    "!databricks secrets put --profile $PROFILE --scope $SCOPE_NAME --key $TOKEN_KEY --string-value $PAT"
   ]
  },
  {
   "cell_type": "code",
   "execution_count": 27,
   "id": "1fff039b-af38-49d6-8629-32a62c025006",
   "metadata": {},
   "outputs": [
    {
     "name": "stdout",
     "output_type": "stream",
     "text": [
      "Key name      Last updated\n",
      "----------  --------------\n",
      "ML-token     1640113569437\n"
     ]
    }
   ],
   "source": [
    "!databricks secrets list --profile $PROFILE --scope $SCOPE_NAME"
   ]
  },
  {
   "cell_type": "markdown",
   "id": "ab6cf4cf-26b6-47c8-b126-2a65b3b7ab2c",
   "metadata": {},
   "source": [
    "WORKSPACE ID"
   ]
  },
  {
   "cell_type": "code",
   "execution_count": 19,
   "id": "f62eab8a-cf8b-48c8-b9cc-b01f558d1394",
   "metadata": {},
   "outputs": [],
   "source": [
    "workspace_data = {\n",
    "  \"scope\": SCOPE_NAME,\n",
    "  \"key\": f\"{PREFIX}-workspace-id\",\n",
    "  \"string_value\": WORKSPACE_ID\n",
    "}"
   ]
  },
  {
   "cell_type": "code",
   "execution_count": 20,
   "id": "ce2b6904-6456-44f9-9e36-297d769f214a",
   "metadata": {},
   "outputs": [],
   "source": [
    "workspace_json = json.dumps(workspace_data)"
   ]
  },
  {
   "cell_type": "code",
   "execution_count": 24,
   "id": "f351c691-e379-4728-bc93-9da17bec3725",
   "metadata": {},
   "outputs": [],
   "source": [
    "!curl --netrc --request POST \\\n",
    "$HOST_CLIENT/api/2.0/secrets/put \\\n",
    "--data '$workspace_json'"
   ]
  },
  {
   "cell_type": "markdown",
   "id": "05a40d02-2dcf-4da0-958b-a5b124c24e04",
   "metadata": {},
   "source": [
    "HOST"
   ]
  },
  {
   "cell_type": "code",
   "execution_count": 19,
   "id": "17085fc9-b7ec-4df5-8717-daab38816ba7",
   "metadata": {},
   "outputs": [],
   "source": [
    "host_data = {\n",
    "  \"scope\": SCOPE_NAME,\n",
    "  \"key\": f\"{PREFIX}-host\",\n",
    "  \"string_value\": HOST_CENTRAL\n",
    "}"
   ]
  },
  {
   "cell_type": "code",
   "execution_count": 20,
   "id": "085a3294-48b7-4139-a749-46cef51e5d8a",
   "metadata": {},
   "outputs": [],
   "source": [
    "host_json = json.dumps(host_data)"
   ]
  },
  {
   "cell_type": "code",
   "execution_count": 24,
   "id": "6fb3a089-c639-4bc9-bfa6-67b979cf23af",
   "metadata": {},
   "outputs": [],
   "source": [
    "!curl --netrc --request POST \\\n",
    "$HOST_CLIENT/api/2.0/secrets/put \\\n",
    "--data '$host_json'"
   ]
  }
 ],
 "metadata": {
  "kernelspec": {
   "display_name": "Python 3",
   "language": "python",
   "name": "python3"
  },
  "language_info": {
   "codemirror_mode": {
    "name": "ipython",
    "version": 3
   },
   "file_extension": ".py",
   "mimetype": "text/x-python",
   "name": "python",
   "nbconvert_exporter": "python",
   "pygments_lexer": "ipython3",
   "version": "3.9.1"
  }
 },
 "nbformat": 4,
 "nbformat_minor": 5
}
