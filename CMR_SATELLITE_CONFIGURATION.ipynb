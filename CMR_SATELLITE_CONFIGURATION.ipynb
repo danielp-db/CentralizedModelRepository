{
 "cells": [
  {
   "cell_type": "code",
   "execution_count": null,
   "id": "9b0c0c52-cb69-4c05-be24-c675526568a9",
   "metadata": {},
   "outputs": [],
   "source": [
    "import json"
   ]
  },
  {
   "cell_type": "markdown",
   "id": "d279ab88-356b-451a-80e3-a426be35f9d8",
   "metadata": {},
   "source": [
    "# PARAMETERS"
   ]
  },
  {
   "cell_type": "markdown",
   "id": "f87a8542-babc-4dd2-b10a-0e8a80af76ed",
   "metadata": {},
   "source": [
    "These parameters won't change during a Central Model Registry configuration."
   ]
  },
  {
   "cell_type": "code",
   "execution_count": null,
   "id": "c09e8ba4-90e9-48ab-a601-21e247937b49",
   "metadata": {},
   "outputs": [],
   "source": [
    "HOST_CENTRAL = '<https://adb-2173364778179441.1.azuredatabricks.net/>' #Url of the central workspace\n",
    "WORKSPACE_ID = '<2173364778179441>' #ID of the central workspace\n",
    "PREFIX = '<cmr>' #A prefix to use to easily distinguish Central Model Registry related secrets"
   ]
  },
  {
   "cell_type": "markdown",
   "id": "5ae05cb7-6bfb-4cad-9742-a8aa47e5e297",
   "metadata": {},
   "source": [
    "These parameters will change for every Satellite Workspace during a Central Model Registry configuration."
   ]
  },
  {
   "cell_type": "code",
   "execution_count": null,
   "id": "8a16a7c3-9a6f-438f-aff6-7454edf6602f",
   "metadata": {},
   "outputs": [],
   "source": [
    "PROFILE = '<profile>' # Databricks CLI profile\n",
    "\n",
    "GROUP = None # Group refers to the logical group with access to the secret scope (Default is None)\n",
    "SCOPE_NAME = '<scope_name>' #Name of the scope\n",
    "\n",
    "HOST_CLIENT = '<https://adb-2173364778179441.1.azuredatabricks.net/>' #Url of the satellite workspace\n",
    "PAT = '<token>' #The token associated with the satellite workspace's Service Principal"
   ]
  },
  {
   "cell_type": "markdown",
   "id": "75506cb6-d539-47cd-878c-85a6f491d9f3",
   "metadata": {},
   "source": [
    "# MAIN"
   ]
  },
  {
   "cell_type": "markdown",
   "id": "e9a97503-bad3-4745-b557-d48f561dc164",
   "metadata": {},
   "source": [
    "## Secret Scope"
   ]
  },
  {
   "cell_type": "markdown",
   "id": "f50b8b8c-e0cf-455a-b9d2-1542ee26ca64",
   "metadata": {},
   "source": [
    "CREATE *SECRET SCOPE* IF IT DOESN'T EXIST"
   ]
  },
  {
   "cell_type": "code",
   "execution_count": null,
   "id": "626026cc-e8c2-40f6-a646-aa665145894f",
   "metadata": {},
   "outputs": [],
   "source": [
    "if GROUP is None:\n",
    "    scope = !databricks secrets create-scope --scope $SCOPE_NAME --profile $PROFILE\n",
    "else:\n",
    "    scope = !databricks secrets create-scope --scope $SCOPE_NAME --initial-manage-principal $GROUP --profile $PROFILE"
   ]
  },
  {
   "cell_type": "code",
   "execution_count": null,
   "id": "30f5e031-c828-4494-b38f-b3bb0e0333d1",
   "metadata": {},
   "outputs": [],
   "source": [
    "!databricks secrets list-scopes --profile $PROFILE"
   ]
  },
  {
   "cell_type": "markdown",
   "id": "bf8864b5-ec95-414b-9751-3fbe493cffd6",
   "metadata": {},
   "source": [
    "## SECRETS"
   ]
  },
  {
   "cell_type": "markdown",
   "id": "dca5d7b6-8dae-4bfa-b810-97a81029ac2d",
   "metadata": {},
   "source": [
    "ADD *TOKEN* SECRET"
   ]
  },
  {
   "cell_type": "code",
   "execution_count": null,
   "id": "18905c36-1783-48ea-a71e-01d7d6498f14",
   "metadata": {},
   "outputs": [],
   "source": [
    "TOKEN_KEY = f\"{PREFIX}-token\""
   ]
  },
  {
   "cell_type": "code",
   "execution_count": null,
   "id": "61aabe8f-7948-4f26-b51b-4a379604aad1",
   "metadata": {},
   "outputs": [],
   "source": [
    "!databricks secrets put --profile $PROFILE --scope $SCOPE_NAME --key $TOKEN_KEY --string-value $PAT"
   ]
  },
  {
   "cell_type": "code",
   "execution_count": null,
   "id": "1fff039b-af38-49d6-8629-32a62c025006",
   "metadata": {},
   "outputs": [],
   "source": [
    "!databricks secrets list --profile $PROFILE --scope $SCOPE_NAME"
   ]
  },
  {
   "cell_type": "markdown",
   "id": "ab6cf4cf-26b6-47c8-b126-2a65b3b7ab2c",
   "metadata": {},
   "source": [
    "ADD *WORKSPACE ID* SECRET"
   ]
  },
  {
   "cell_type": "code",
   "execution_count": null,
   "id": "f62eab8a-cf8b-48c8-b9cc-b01f558d1394",
   "metadata": {},
   "outputs": [],
   "source": [
    "WORKSPACE_KEY = f\"{PREFIX}-workspace-id\""
   ]
  },
  {
   "cell_type": "code",
   "execution_count": null,
   "id": "7185d6cf-cb40-419c-af1a-60793583ba73",
   "metadata": {},
   "outputs": [],
   "source": [
    "!databricks secrets put --profile $PROFILE --scope $SCOPE_NAME --key $WORKSPACE_KEY --string-value $WORKSPACE_ID"
   ]
  },
  {
   "cell_type": "code",
   "execution_count": null,
   "id": "5d862378-35ee-4317-9b86-b304eff46461",
   "metadata": {},
   "outputs": [],
   "source": [
    "!databricks secrets list --profile $PROFILE --scope $SCOPE_NAME"
   ]
  },
  {
   "cell_type": "markdown",
   "id": "05a40d02-2dcf-4da0-958b-a5b124c24e04",
   "metadata": {},
   "source": [
    "ADD *HOST* SECRET"
   ]
  },
  {
   "cell_type": "code",
   "execution_count": null,
   "id": "17085fc9-b7ec-4df5-8717-daab38816ba7",
   "metadata": {},
   "outputs": [],
   "source": [
    "HOST_KEY = f\"{PREFIX}-host\","
   ]
  },
  {
   "cell_type": "code",
   "execution_count": null,
   "id": "085a3294-48b7-4139-a749-46cef51e5d8a",
   "metadata": {},
   "outputs": [],
   "source": [
    "!databricks secrets put --profile $PROFILE --scope $SCOPE_NAME --key $HOST_KEY --string-value $HOST_CENTRAL"
   ]
  },
  {
   "cell_type": "code",
   "execution_count": null,
   "id": "6fb3a089-c639-4bc9-bfa6-67b979cf23af",
   "metadata": {},
   "outputs": [],
   "source": [
    "!databricks secrets list --profile $PROFILE --scope $SCOPE_NAME"
   ]
  }
 ],
 "metadata": {
  "kernelspec": {
   "display_name": "Python 3",
   "language": "python",
   "name": "python3"
  },
  "language_info": {
   "codemirror_mode": {
    "name": "ipython",
    "version": 3
   },
   "file_extension": ".py",
   "mimetype": "text/x-python",
   "name": "python",
   "nbconvert_exporter": "python",
   "pygments_lexer": "ipython3",
   "version": "3.9.1"
  }
 },
 "nbformat": 4,
 "nbformat_minor": 5
}
